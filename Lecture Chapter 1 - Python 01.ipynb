{
 "cells": [
  {
   "cell_type": "markdown",
   "metadata": {},
   "source": [
    "# Python Basics \n",
    "\n",
    "## Contents:\n",
    "\n",
    "* [Hello World](#HelloWorld)\n",
    "* [Arithmetic](#Arithmetic)\n",
    "* [Variables](#Variables)\n",
    "* [Strings](#Strings)\n",
    "* [Logic](#Logic)"
   ]
  },
  {
   "cell_type": "markdown",
   "metadata": {
    "collapsed": true
   },
   "source": [
    "# Hello World\n",
    "\n",
    "### Your first program: Print!\n",
    "\n",
    "Python can handle strings of letters that are enclosed in quotation marks like:  \n",
    "\n",
    "`\"Hello World\"` or `'Hello World'`\n",
    "\n",
    "One of the simplest programs is print, which works like the following:"
   ]
  },
  {
   "cell_type": "code",
   "execution_count": null,
   "metadata": {},
   "outputs": [],
   "source": [
    "print('Hello World!')"
   ]
  },
  {
   "cell_type": "code",
   "execution_count": null,
   "metadata": {},
   "outputs": [],
   "source": [
    "\"Hello World!\""
   ]
  },
  {
   "cell_type": "code",
   "execution_count": null,
   "metadata": {},
   "outputs": [],
   "source": [
    "# Is it going to give you error if you write your code like below?\n",
    "print(\"Hello World!\")"
   ]
  },
  {
   "cell_type": "code",
   "execution_count": null,
   "metadata": {},
   "outputs": [],
   "source": [
    "#or like this?\n",
    "print(\"'Hello World!'\")"
   ]
  },
  {
   "cell_type": "code",
   "execution_count": null,
   "metadata": {},
   "outputs": [],
   "source": [
    "#or like this?\n",
    "print(Hello World!)"
   ]
  },
  {
   "cell_type": "code",
   "execution_count": null,
   "metadata": {},
   "outputs": [],
   "source": [
    "# Write your first bit of code here\n"
   ]
  },
  {
   "cell_type": "markdown",
   "metadata": {},
   "source": [
    "## Arithmetic\n",
    "\n",
    "Python can also handle numbers, and basic arithmetic using the following functions.\n",
    "\n",
    "| Symbol | Task Performed |\n",
    "|----|---|\n",
    "| +  | Addition |\n",
    "| -  | Subtraction |\n",
    "| /  | division |\n",
    "| %  | modulo |\n",
    "| *  | multiplication |\n",
    "| //  | floor division |\n",
    "| **  | to the power of |"
   ]
  },
  {
   "cell_type": "code",
   "execution_count": null,
   "metadata": {},
   "outputs": [],
   "source": [
    "print(3)\n",
    "print(3*5)\n",
    "print(3+3)\n",
    "print(3-2)\n",
    "print(8/2)"
   ]
  },
  {
   "cell_type": "code",
   "execution_count": null,
   "metadata": {},
   "outputs": [],
   "source": [
    "3\n",
    "3*5\n",
    "3+3"
   ]
  },
  {
   "cell_type": "markdown",
   "metadata": {},
   "source": [
    "Parentheses work too! And they are used similarly to arithmetic rules."
   ]
  },
  {
   "cell_type": "code",
   "execution_count": null,
   "metadata": {},
   "outputs": [],
   "source": [
    "print(2+3*4)\n",
    "print((2+3)*4)"
   ]
  },
  {
   "cell_type": "markdown",
   "metadata": {},
   "source": [
    "### Quick Exercises 1"
   ]
  },
  {
   "cell_type": "code",
   "execution_count": null,
   "metadata": {},
   "outputs": [],
   "source": [
    "# QE 1\n",
    "# How many seconds are there in a year?\n",
    "# 365 days x 24 hours x 60 minutes x 60 seconds\n",
    "\n",
    "#write your code here\n",
    "\n"
   ]
  },
  {
   "cell_type": "markdown",
   "metadata": {},
   "source": [
    "### Integers vs. Float\n",
    "\n",
    "Python allows you to work with both integers (int) and numbers containing decimals (float).  Of course, every integer can be represented as a float, but there are some things you can do with integers that you cannot do with floats that mostly have to do with precision.  Python can tell automatically if a number is an int or a float, though you can override this as you see fit."
   ]
  },
  {
   "cell_type": "code",
   "execution_count": null,
   "metadata": {},
   "outputs": [],
   "source": [
    "print((type(10)))\n",
    "print((type(10.)))\n",
    "print((10 / 3))\n",
    "print((10 % 3))\n",
    "print((float(10) / 3)) # Force integers to be float\n",
    "print((13.0 / 3.5)) # You can also change the initial data type. \n",
    "print((13.0 //3.5)) # Floor Division, rounds down the result to the nearest integer\n",
    "print((round(7.5))) # You can round floats up to the neares integer."
   ]
  },
  {
   "cell_type": "markdown",
   "metadata": {},
   "source": [
    "### Integer arithmetic\n",
    "\n",
    "Arithmetic with integers works the same way as normal arithmetic.  When you divide one integer by another, you drop the remainder.  \n",
    "\n",
    "To get the remainder, you can use the % (mod) operation.  To get the exact result, however, you need another data type - you turn one of the integers into a float.  In general, if you perform an arithmetic operation with one integer and one float, Python 3 will turn both numbers into floats before performing the operation."
   ]
  },
  {
   "cell_type": "code",
   "execution_count": null,
   "metadata": {},
   "outputs": [],
   "source": [
    "print(9/3)\n",
    "print(9/4)\n",
    "print(9%4)"
   ]
  },
  {
   "cell_type": "markdown",
   "metadata": {},
   "source": [
    "### Quick Exercises 2"
   ]
  },
  {
   "cell_type": "code",
   "execution_count": null,
   "metadata": {},
   "outputs": [],
   "source": [
    "# Solve the basic algebra equations, without doing any calculations in your head: \n",
    "# You should type all and only the numbers that are already on the screen. \n",
    "# For example:\n",
    "print(\"Find x in 5x = 3x + 8\")\n",
    "8/(5-3)"
   ]
  },
  {
   "cell_type": "code",
   "execution_count": null,
   "metadata": {},
   "outputs": [],
   "source": [
    "#QE 1\n",
    "# Find x in 17x + -12 = 114 + 3x.\n",
    "# write your code here\n",
    "\n"
   ]
  },
  {
   "cell_type": "code",
   "execution_count": null,
   "metadata": {},
   "outputs": [],
   "source": [
    "#QE 2\n",
    "# Find the remainder of x in 11x + -2 = 100 + 2x.\n",
    "# write your code here\n",
    "\n"
   ]
  },
  {
   "cell_type": "markdown",
   "metadata": {},
   "source": [
    "### Float arithmetic"
   ]
  },
  {
   "cell_type": "code",
   "execution_count": null,
   "metadata": {},
   "outputs": [],
   "source": [
    "# Examples:\n",
    "print(5.5 + 2.2)\n",
    "print(5.5 - 2.2)"
   ]
  },
  {
   "cell_type": "code",
   "execution_count": null,
   "metadata": {},
   "outputs": [],
   "source": [
    "print(5.5 * 2.2)\n",
    "#Note that the output is in the very nature of binary floating-point: this is not a bug in Python, \n",
    "#and it is not a bug in your code either. You’ll see the same kind of thing in all languages that \n",
    "#support your hardware’s floating-point arithmetic (although some languages may not display the \n",
    "#difference by default, or in all output modes)"
   ]
  },
  {
   "cell_type": "code",
   "execution_count": null,
   "metadata": {},
   "outputs": [],
   "source": [
    "#We can format the answer according to the significant numbers that we want\n",
    "print(format(5.5 * 2.2, '.2f'))"
   ]
  },
  {
   "cell_type": "code",
   "execution_count": null,
   "metadata": {},
   "outputs": [],
   "source": [
    "print(5.5 / 2.2)\n",
    "print(5.5 // 2.2)  #“floor” division (rounds down to nearest whole number)\n",
    "print(5.5 ** 2.2)  #exponential\n",
    "print(5.5 < 2.2)\n",
    "print(5.5 != 2.2)"
   ]
  },
  {
   "cell_type": "markdown",
   "metadata": {},
   "source": [
    "# Variables\n",
    "\n",
    "A name that is used to denote something or a value is called a variable. This is how a computer *stores* data, by assigning it to a variable! In python, variables can be declared and values can be assigned to it as follows:"
   ]
  },
  {
   "cell_type": "code",
   "execution_count": null,
   "metadata": {},
   "outputs": [],
   "source": [
    "b = -10 \n",
    "c = 2.7 \n",
    "\n",
    "print(b)\n",
    "print(c)\n",
    "print((b + c))\n",
    "\n",
    "print((type(b)))\n",
    "print((type(c)))"
   ]
  },
  {
   "cell_type": "code",
   "execution_count": null,
   "metadata": {},
   "outputs": [],
   "source": [
    "# Note how changing the type to an int rounds down\n",
    "b = float(b)\n",
    "c = int(c)\n",
    "\n",
    "print(b)\n",
    "print(c)\n",
    "\n",
    "print((type(b)))\n",
    "print((type(c)))"
   ]
  },
  {
   "cell_type": "markdown",
   "metadata": {},
   "source": [
    "Multiple variables can be assigned with the same value."
   ]
  },
  {
   "cell_type": "code",
   "execution_count": null,
   "metadata": {},
   "outputs": [],
   "source": [
    "x = y = 1\n",
    "print((x,y))"
   ]
  },
  {
   "cell_type": "code",
   "execution_count": null,
   "metadata": {},
   "outputs": [],
   "source": [
    "id(x)\n",
    "#Return the “identity” of an object (This is the address of the object in memory)\n",
    "#It is an integer (or long integer) which is guaranteed to be unique and constant for this object during its lifetime\n",
    "#Think of it as a IC number or employee id number for Python objects\n",
    "#Do not use 'id' as your variable!"
   ]
  },
  {
   "cell_type": "code",
   "execution_count": null,
   "metadata": {},
   "outputs": [],
   "source": [
    "id(y)\n",
    "#Return the same number as id(x)\n",
    "#Indicates that two objects with non-overlapping lifetimes may have the same id() value"
   ]
  },
  {
   "cell_type": "code",
   "execution_count": null,
   "metadata": {},
   "outputs": [],
   "source": [
    "# Multiple Assignment - What does this do?\n",
    "x,y = 2,3\n",
    "x,y = y,x\n",
    "print((x,y))"
   ]
  },
  {
   "cell_type": "markdown",
   "metadata": {},
   "source": [
    "#### Follow the following variable naming rules:\n",
    "\n",
    "- Variable names can only contain letters, numbers, and underscores. Variable names can start with a letter or an underscore, but not a number.\n",
    "- Spaces are not allowed in variable names, so we use underscores instead of spaces. For example, use student_name instead of \"student name\".\n",
    "- You cannot use Python keywords as variable names.\n",
    "- Variable names should be descriptive, without being too long. For example mc_wheels is better than just \"wheels\", and number_of_wheels_on_a_motorycle.\n",
    "- Be careful about using the lowercase letter l and the uppercase letter O in places where they could be confused with the numbers 1 and 0."
   ]
  },
  {
   "cell_type": "markdown",
   "metadata": {},
   "source": [
    "### Quick Exercises 3"
   ]
  },
  {
   "cell_type": "code",
   "execution_count": null,
   "metadata": {},
   "outputs": [],
   "source": [
    "#QE 1\n",
    "# Variables can vary!\n",
    "# Guess the final value of guess_this_number of this code:\n",
    "\n",
    "guess_this_number  = 17\n",
    "guess_this_number = guess_this_number/2\n",
    "guess_this_number = guess_this_number - 5\n",
    "\n",
    "guess_this_number"
   ]
  },
  {
   "cell_type": "code",
   "execution_count": null,
   "metadata": {},
   "outputs": [],
   "source": [
    "#QE 2\n",
    "# Guess the output of this code:\n",
    "minutes = minutes + 10\n",
    "seconds = minutes / 2"
   ]
  },
  {
   "cell_type": "markdown",
   "metadata": {},
   "source": [
    "### TIPS"
   ]
  },
  {
   "cell_type": "code",
   "execution_count": null,
   "metadata": {},
   "outputs": [],
   "source": [
    "# Some Jupyter Magic on variables\n",
    "%whos"
   ]
  },
  {
   "cell_type": "markdown",
   "metadata": {},
   "source": [
    "# Strings\n",
    "\n",
    "A string is a set of characters.  Strings are used to store data that is _text_.\n",
    "\n",
    "In Python, Strings are abbreviated \"str\" and there are many built-in features that allow you to manipulate those strings.  \n",
    "\n",
    "Strings can be enclosed by either double or single quotes, although single quotes are more common."
   ]
  },
  {
   "cell_type": "code",
   "execution_count": null,
   "metadata": {},
   "outputs": [],
   "source": [
    "# Which of these are valid strings?\n",
    "print('hello')\n",
    "#print(\"hello')\n",
    "#print('hello)\n",
    "#print('hello\")\n",
    "#print(\"hello\")\n",
    "#print \"hello\"\n",
    "#print hello"
   ]
  },
  {
   "cell_type": "code",
   "execution_count": null,
   "metadata": {},
   "outputs": [],
   "source": [
    "# Define a variable as your name.  \n",
    "# Then print \"My name is _____\" using your variable. \n",
    "\n",
    "name = 'Suhaila'\n",
    "\n",
    "print('My name is', name)"
   ]
  },
  {
   "cell_type": "code",
   "execution_count": null,
   "metadata": {},
   "outputs": [],
   "source": [
    "# String ASCII demo\n",
    "# Given a string of length one, return an integer representing the Unicode code point of the character \n",
    "# when the argument is a unicode object\n",
    "print(ord('A'))\n",
    "\n",
    "# or the value of the byte when the argument is an 8-bit string\n",
    "print(ord('€'))\n"
   ]
  },
  {
   "cell_type": "markdown",
   "metadata": {},
   "source": [
    "#### A side note: \n",
    "One of the most useful tools for a curious student is the documentation, or docs that explain the functionality of a particular python type, function, or otherwise.  Take a look at the\n",
    "[Python Documentation on Strings](https://docs.python.org/3/library/stdtypes.html#str).\n",
    "\n",
    "### String Operations\n",
    "s + t -- the concatenation of s and t\n",
    "\n",
    "n * s -- equivalent to adding s to itself n times\n"
   ]
  },
  {
   "cell_type": "code",
   "execution_count": null,
   "metadata": {},
   "outputs": [],
   "source": [
    "b = 'French' # Concatenation works quite intuitively\n",
    "print((b + ' Fries'))"
   ]
  },
  {
   "cell_type": "code",
   "execution_count": null,
   "metadata": {},
   "outputs": [],
   "source": [
    "pi = 3.14\n",
    "print(('pi is approximately: ' + pi)) # why does this throw an error?\n",
    "#print(('pi is approximately: ' + 3.14))"
   ]
  },
  {
   "cell_type": "code",
   "execution_count": null,
   "metadata": {},
   "outputs": [],
   "source": [
    "pi = '3.14'\n",
    "print(('pi is approximately: ' + pi))\n",
    "print(('pi is approximately: ' + '3.14'))"
   ]
  },
  {
   "cell_type": "code",
   "execution_count": null,
   "metadata": {},
   "outputs": [],
   "source": [
    "a = 'oleh '\n",
    "print((a*2 + 'Malaysia b' + a)) \n",
    "print((a*2, 'Malaysia b', a))"
   ]
  },
  {
   "cell_type": "markdown",
   "metadata": {},
   "source": [
    "### Slices of String Indices\n",
    "Characters in a string can be accessed using the standard [ ] syntax, and like Java and C++, Python uses zero-based indexing.  This concept will extend much further than strings.\n",
    "\n",
    "This is easiest to think about if you think of each letter as being in its own box.\n",
    "\n",
    "s[1:4] is 'ell' -- chars starting at index 1 and extending up to but not including index 4\n",
    "\n",
    "s[1:] is 'ello' -- omitting either index defaults to the start or end of the string\n",
    "\n",
    "s[:] is 'Hello' -- omitting both always gives us a copy of the whole thing (this is the pythonic way to copy a sequence like a string or list)\n",
    "\n",
    "s[1:100] is 'ello' -- an index that is too big is truncated down to the string length\n",
    "\n",
    "s[-1] is 'o' -- last char (1st from the end)\n",
    "\n",
    "s[-4] is 'e' -- 4th from the end\n",
    "\n",
    "s[:-3] is 'He' -- going up to but not including the last 3 chars.\n",
    "\n",
    "s[-3:] is 'llo' -- starting with the 3rd char from the end and extending to the end of the string.\n",
    "\n",
    " h  e  l  l  o <br>\n",
    " 0  1  2  3  4<br>\n",
    "-5 -4 -3 -2 -1<br>\n",
    "\n",
    "\n",
    "s[i] -- ith item of s, origin 0\n",
    "\n",
    "s[i:j] -- slice of s from i to j\n",
    "\n",
    "s[i:j:k] -- slice of s from i to j with step k\n"
   ]
  },
  {
   "cell_type": "code",
   "execution_count": null,
   "metadata": {},
   "outputs": [],
   "source": [
    "h = 'hello'\n",
    "print(h[1:4])    #chars starting at index 1 and extending up to but not including index 4\n",
    "print(h[1:])     #omitting either index defaults to the start or end of the string\n",
    "print(h[:])      #omitting both always gives us a copy of the whole thing \n",
    "print(h[1:100])  #an index that is too big is truncated down to the string length\n",
    "print(h[-1])     #last char (1st from the end)\n",
    "print(h[-4])     #4th from the end\n",
    "print(h[:-3])    #going up to but not including the last 3 chars.\n",
    "print(h[-3:])    #starting with the 3rd char from the end and extending to the end of the string."
   ]
  },
  {
   "cell_type": "code",
   "execution_count": null,
   "metadata": {},
   "outputs": [],
   "source": [
    "i=1\n",
    "j=5\n",
    "k=2\n",
    "z = 'Jupyter'\n",
    "print(z[i])     #ith item of string h, origin 0\n",
    "print(z[i:j])   #slice of string h from i to j\n",
    "print(z[i:j:k]) #slice of string h from i to j with step k"
   ]
  },
  {
   "cell_type": "code",
   "execution_count": null,
   "metadata": {},
   "outputs": [],
   "source": [
    "#[added indexing example]\n",
    "a = 'text string here' #Strings are contained by either single or double quotes.\n",
    "\n",
    "print(a)\n",
    "print((\"The first character in our string is \" + a[0] +\".\"))\n",
    "print((\"The second, third, and fourth characters are \" + a[1:4] +\".\"))\n",
    "\n",
    "s = 'hello'\n",
    "\n",
    "print((s[-1]))\n",
    "print((s[:-3]))\n",
    "print((s[-3:]))"
   ]
  },
  {
   "cell_type": "markdown",
   "metadata": {},
   "source": [
    "### Quick Exercises 4"
   ]
  },
  {
   "cell_type": "code",
   "execution_count": null,
   "metadata": {},
   "outputs": [],
   "source": [
    "#QE 1\n",
    "#For which pairs will the result, for any string s, always be the same?\n",
    "s = 'hello'\n",
    "\n",
    "print(s[3], s[1+1+1])\n",
    "print(s[0], (s+s)[0])\n",
    "print(s[0]+s[1], s[0+1] )\n",
    "print(s[1], (s+ 'ed')[1])\n",
    "print(s[-1], (s+s)[-1])"
   ]
  },
  {
   "cell_type": "code",
   "execution_count": null,
   "metadata": {},
   "outputs": [],
   "source": [
    "#QE 2\n",
    "#Which slices will return the string s exactly as it is?\n",
    "\n",
    "g = 'world'\n",
    "print(g[:])\n",
    "print(g+g[0:-1+1])\n",
    "print(g[0:])\n",
    "print(g[:-1])\n",
    "print(g[:3]+s[3:])"
   ]
  },
  {
   "cell_type": "markdown",
   "metadata": {},
   "source": [
    "### String Indices related methods\n",
    "\n",
    "len(s) -- length of string s\t\n",
    "\n",
    "s.index(x) -- index of the first occurrence of x in string s\t\n",
    "\n",
    "s.find('other') -- searches for the given other string (not a regular expression) within string s, and returns the first \n",
    "index where it begins or -1 if not found"
   ]
  },
  {
   "cell_type": "code",
   "execution_count": null,
   "metadata": {},
   "outputs": [],
   "source": [
    "data_vs_info = \"You can have data without information,\\\n",
    "but you cannot have information without data. \\\n",
    "~ Daniel Keys Moran,  science fiction writer\"\n",
    "\n",
    "print(data_vs_info) # Note what \\ does.\n",
    "print((len(data_vs_info)))\n",
    "print((data_vs_info.find('Daniel')))\n",
    "print((data_vs_info.index('Daniel')))"
   ]
  },
  {
   "cell_type": "code",
   "execution_count": null,
   "metadata": {},
   "outputs": [],
   "source": [
    "# Slice the name of the author\n",
    "print()\n",
    "print((data_vs_info.index('Moran')))\n",
    "print((data_vs_info[86:98+4]))"
   ]
  },
  {
   "cell_type": "code",
   "execution_count": null,
   "metadata": {},
   "outputs": [],
   "source": [
    "# Slice the profession. \n",
    "print()\n",
    "print((data_vs_info.index('science')))\n",
    "print((data_vs_info.index('writer')))\n",
    "print((data_vs_info[107:123+6]))\n",
    "print((data_vs_info[(data_vs_info.index('science')):(data_vs_info.index('writer')+6)]))"
   ]
  },
  {
   "cell_type": "code",
   "execution_count": null,
   "metadata": {},
   "outputs": [],
   "source": [
    "# Slice the quote only\n",
    "print()\n",
    "print((data_vs_info[:(data_vs_info.index('.'))]))"
   ]
  },
  {
   "cell_type": "markdown",
   "metadata": {},
   "source": [
    "### Quick Exercise 5 "
   ]
  },
  {
   "cell_type": "code",
   "execution_count": null,
   "metadata": {},
   "outputs": [],
   "source": [
    "# QE 1\n",
    "# Combine the find/index functions and string slicing to return:\n",
    "# (1) Just the first part of the quote\n",
    "# (2) Just the second part of the quote\n",
    "# (3) Just the author's name. \n",
    "\n",
    "pythagoras = \"There is geometry in the humming of the strings, there is music in the spacing of the spheres. -Pythagoras\"\n",
    "\n",
    "print((pythagoras[:(pythagoras.index(','))]))\n",
    "print((pythagoras[(pythagoras.index(',')+2):(pythagoras.index('.'))]))\n",
    "print((pythagoras[(pythagoras.index('Pythagoras')):]))"
   ]
  },
  {
   "cell_type": "code",
   "execution_count": null,
   "metadata": {},
   "outputs": [],
   "source": [
    "# QE 2\n",
    "# Which of these will evaluate to -1?\n",
    "\n",
    "\"test\".find(\"t\")\n",
    "\"test\".find(\"st\")\n",
    "\"Test\".find(\"te\") \n",
    "\"west\".find(\"test\")"
   ]
  },
  {
   "cell_type": "code",
   "execution_count": null,
   "metadata": {},
   "outputs": [],
   "source": [
    "# QE 3\n",
    "# Which of these will always return the value zero for any given string s?\n",
    "\n",
    "print(s)\n",
    "print((s.find(s[2:3])))\n",
    "print((s.find(\"s\")))\n",
    "print((\"s\".find(\"s\")))\n",
    "print((s.find(\"\")))       # Empty strings are always considered to be a substring of any other string\n",
    "print((s.find(s+\"!!!\")+1))"
   ]
  },
  {
   "cell_type": "markdown",
   "metadata": {},
   "source": [
    "### TIPS"
   ]
  },
  {
   "cell_type": "code",
   "execution_count": null,
   "metadata": {},
   "outputs": [],
   "source": [
    "# How to look for help.  Equivalent to looking at https://docs.python.org/2/library/string.html#string.find\n",
    "help(\"str.find\")"
   ]
  },
  {
   "cell_type": "markdown",
   "metadata": {},
   "source": [
    "### Common built- in methods\n",
    "min(s) -- smallest item of s\t\n",
    "\n",
    "max(s) -- largest item of s\t \n",
    "\n",
    "s.count(x) -- total number of occurrences of x in s\t\n",
    "\n",
    "s.lower(), s.upper() -- returns the lowercase or uppercase version of the string\n",
    "\n",
    "s.strip() -- returns a string with whitespace removed from the start and end\n",
    "\n",
    "s.isalpha()/s.isdigit()/s.isspace()... -- tests if all the string chars are in the various character classes\n",
    "\n",
    "s.startswith('other'), s.endswith('other') -- tests if the string starts or ends with the given other string\n",
    "\n",
    "s.replace('old', 'new') -- returns a string where all occurrences of 'old' have been replaced by 'new'\n",
    "\n",
    "s.split('delim') -- returns a list of substrings separated by the given delimiter. The delimiter is not a regular expression, it's just text. 'aaa,bbb,ccc'.split(',') -> ['aaa', 'bbb', 'ccc']. As a convenient special case s.split() (with no arguments) splits on all whitespace chars.\n",
    "\n",
    "s.join(list) -- opposite of split(), joins the elements in the given list together using the string as the delimiter. e.g. '---'.join(['aaa', 'bbb', 'ccc']) -> aaa---bbb---ccc"
   ]
  },
  {
   "cell_type": "code",
   "execution_count": null,
   "metadata": {},
   "outputs": [],
   "source": [
    "s = 'abcdefghijklMnoPqrstuvwxxxxyz'\n",
    "\n",
    "print(min(s)) #smallest item of s\n",
    "print(max(s)) #largest item of s\n",
    "print(s.count('x')) #total number of occurrences of x in s\n",
    "print()"
   ]
  },
  {
   "cell_type": "code",
   "execution_count": null,
   "metadata": {},
   "outputs": [],
   "source": [
    "s1 = '    abcdefghijklMnoPqrstuvw xxxxyz   '\n",
    "print(s1.lower())\n",
    "print(s1.upper()) #returns the lowercase or uppercase version of the string\n",
    "print(s1.strip()) #returns a string with whitespace removed from the start and end\n",
    "\n",
    "print()\n",
    "print(s.isalpha())  #returns “True” if all characters in the string are alphabets\n",
    "print(s.isdigit())  #returns “True” if all characters in the string are digit\n",
    "print(s.isspace())  #returns “True” if all characters in the string are whitespace characters"
   ]
  },
  {
   "cell_type": "code",
   "execution_count": null,
   "metadata": {},
   "outputs": [],
   "source": [
    "s2 = 'Python is an interesting language!'\n",
    "print()\n",
    "print(s2.startswith('Python'))  #tests if the string starts with the given other string (case sensitive!)\n",
    "print(s2.endswith('an'))  #tests if the string ends with the given other string\n",
    "print()\n",
    "print(s2.replace('Python', 'Java')) #returns a string where all occurrences of 'old' have been replaced by 'new'\n",
    "print(s2.split('an')) #returns a list of substrings separated by the given delimiter"
   ]
  },
  {
   "cell_type": "code",
   "execution_count": null,
   "metadata": {},
   "outputs": [],
   "source": [
    "s3 = '1234'\n",
    "s4 = 'abc'\n",
    "print(s4.join(s3))\n",
    "print(s3.join(s4)) #opposite of split(), joins the elements in the given list together using the string as the delimiter"
   ]
  },
  {
   "cell_type": "markdown",
   "metadata": {},
   "source": [
    "### Format\n",
    "\n",
    "The % operator takes a printf-type format string on the left (%d int, %s string, %f/%g floating point), and the matching values in a tuple on the right (a tuple is made of values separated by commas, typically grouped inside parenthesis)... more about tuples later."
   ]
  },
  {
   "cell_type": "code",
   "execution_count": null,
   "metadata": {},
   "outputs": [],
   "source": [
    "# % operator\n",
    "print(\"We were going nearly %f km/hr. But there were %d %s going faster!\"%(130.2, 3, \"cars\"))"
   ]
  },
  {
   "cell_type": "code",
   "execution_count": null,
   "metadata": {},
   "outputs": [],
   "source": [
    "# format method\n",
    "\"We were going nearly {} km/hr. But there were {} {} going faster!\".format(130.2, 3, \"cars\")"
   ]
  },
  {
   "cell_type": "code",
   "execution_count": null,
   "metadata": {},
   "outputs": [],
   "source": []
  }
 ],
 "metadata": {
  "anaconda-cloud": {},
  "kernelspec": {
   "display_name": "Python 3 (ipykernel)",
   "language": "python",
   "name": "python3"
  },
  "language_info": {
   "codemirror_mode": {
    "name": "ipython",
    "version": 3
   },
   "file_extension": ".py",
   "mimetype": "text/x-python",
   "name": "python",
   "nbconvert_exporter": "python",
   "pygments_lexer": "ipython3",
   "version": "3.11.5"
  }
 },
 "nbformat": 4,
 "nbformat_minor": 1
}
